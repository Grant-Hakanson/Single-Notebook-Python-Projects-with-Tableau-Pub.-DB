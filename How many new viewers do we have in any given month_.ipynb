{
 "cells": [
  {
   "cell_type": "markdown",
   "id": "0a9496e5",
   "metadata": {},
   "source": [
    "# How many new viewers do we have in any given month?"
   ]
  },
  {
   "cell_type": "markdown",
   "id": "ecc83364",
   "metadata": {},
   "source": [
    "### The following is a real world use case filled by me at work. The data field names and data has been changed for privacy reasons. "
   ]
  },
  {
   "cell_type": "code",
   "execution_count": 1,
   "id": "adbf6a91",
   "metadata": {},
   "outputs": [],
   "source": [
    "import pandas as pd\n",
    "\n",
    "last_month = pd.read_csv('/Users/granthakason/Downloads/MOCK_DATA.csv')\n",
    "pre_last_month = pd.read_csv('/Users/granthakason/Downloads/MOCK_DATA.csv')"
   ]
  },
  {
   "cell_type": "code",
   "execution_count": 2,
   "id": "a36f1dd8",
   "metadata": {},
   "outputs": [
    {
     "data": {
      "text/html": [
       "<div>\n",
       "<style scoped>\n",
       "    .dataframe tbody tr th:only-of-type {\n",
       "        vertical-align: middle;\n",
       "    }\n",
       "\n",
       "    .dataframe tbody tr th {\n",
       "        vertical-align: top;\n",
       "    }\n",
       "\n",
       "    .dataframe thead th {\n",
       "        text-align: right;\n",
       "    }\n",
       "</style>\n",
       "<table border=\"1\" class=\"dataframe\">\n",
       "  <thead>\n",
       "    <tr style=\"text-align: right;\">\n",
       "      <th></th>\n",
       "      <th>data id</th>\n",
       "      <th>Recorded on</th>\n",
       "    </tr>\n",
       "  </thead>\n",
       "  <tbody>\n",
       "    <tr>\n",
       "      <th>0</th>\n",
       "      <td>1</td>\n",
       "      <td>2/6/2023</td>\n",
       "    </tr>\n",
       "    <tr>\n",
       "      <th>1</th>\n",
       "      <td>2</td>\n",
       "      <td>12/4/2022</td>\n",
       "    </tr>\n",
       "    <tr>\n",
       "      <th>2</th>\n",
       "      <td>3</td>\n",
       "      <td>11/7/2022</td>\n",
       "    </tr>\n",
       "    <tr>\n",
       "      <th>3</th>\n",
       "      <td>4</td>\n",
       "      <td>5/7/2022</td>\n",
       "    </tr>\n",
       "    <tr>\n",
       "      <th>4</th>\n",
       "      <td>5</td>\n",
       "      <td>7/30/2022</td>\n",
       "    </tr>\n",
       "  </tbody>\n",
       "</table>\n",
       "</div>"
      ],
      "text/plain": [
       "   data id Recorded on\n",
       "0        1    2/6/2023\n",
       "1        2   12/4/2022\n",
       "2        3   11/7/2022\n",
       "3        4    5/7/2022\n",
       "4        5   7/30/2022"
      ]
     },
     "execution_count": 2,
     "metadata": {},
     "output_type": "execute_result"
    }
   ],
   "source": [
    "last_month.head()"
   ]
  },
  {
   "cell_type": "code",
   "execution_count": 3,
   "id": "b6fc6fb0",
   "metadata": {},
   "outputs": [
    {
     "name": "stdout",
     "output_type": "stream",
     "text": [
      "<class 'pandas.core.frame.DataFrame'>\n",
      "RangeIndex: 1000 entries, 0 to 999\n",
      "Data columns (total 2 columns):\n",
      " #   Column       Non-Null Count  Dtype \n",
      "---  ------       --------------  ----- \n",
      " 0   data id      1000 non-null   int64 \n",
      " 1   Recorded on  1000 non-null   object\n",
      "dtypes: int64(1), object(1)\n",
      "memory usage: 15.8+ KB\n"
     ]
    }
   ],
   "source": [
    "last_month.info()"
   ]
  },
  {
   "cell_type": "markdown",
   "id": "d991fe42",
   "metadata": {},
   "source": [
    "## Filter Data Appropriately "
   ]
  },
  {
   "cell_type": "markdown",
   "id": "db56149a",
   "metadata": {},
   "source": [
    "### Last Month Data"
   ]
  },
  {
   "cell_type": "code",
   "execution_count": 5,
   "id": "52b160df",
   "metadata": {},
   "outputs": [],
   "source": [
    "# Last Months Filtering\n",
    "\n",
    "last_month['Recorded on'] = pd.to_datetime(last_month['Recorded on'])\n",
    "\n",
    "# Filter out the most recent month's worth of data\n",
    "last_month = last_month.loc[last_month['Recorded on'] >= last_month['Recorded on'].max() - pd.DateOffset(months=1)]\n",
    "\n",
    "# Sort the DataFrame in ascending order based on the date field\n",
    "last_month.sort_values(by='Recorded on', ascending=True, inplace=True)\n",
    "\n",
    "# Extract the unique IDs from the 'u_user_id' column\n",
    "unique_ids = last_month['data id'].unique()\n",
    "\n",
    "# Convert the numpy array of unique IDs to a Pandas Series\n",
    "unique_ids_lm = pd.Series(unique_ids)\n",
    "\n",
    "# Count the number of unique IDs\n",
    "unique_ids_lm = unique_ids_lm.nunique()"
   ]
  },
  {
   "cell_type": "code",
   "execution_count": 6,
   "id": "004cc78c",
   "metadata": {},
   "outputs": [
    {
     "data": {
      "text/plain": [
       "89"
      ]
     },
     "execution_count": 6,
     "metadata": {},
     "output_type": "execute_result"
    }
   ],
   "source": [
    "unique_ids_lm"
   ]
  },
  {
   "cell_type": "code",
   "execution_count": 8,
   "id": "783ba857",
   "metadata": {},
   "outputs": [],
   "source": [
    "# Pre Last Months Filtering\n",
    "\n",
    "pre_last_month['Recorded on'] = pd.to_datetime(pre_last_month['Recorded on'])\n",
    "\n",
    "# Filter out the most recent month's worth of data\n",
    "pre_last_month = pre_last_month.loc[pre_last_month['Recorded on'] < \n",
    "                                    pre_last_month['Recorded on'].max() - pd.DateOffset(months=1)]\n",
    "\n",
    "# Sort the DataFrame in ascending order based on the date field\n",
    "pre_last_month.sort_values(by='Recorded on', ascending=True, inplace=True)\n",
    "\n",
    "# Extract the unique IDs from the 'u_user_id' column\n",
    "unique_ids = pre_last_month['data id'].unique()\n",
    "\n",
    "# Convert the numpy array of unique IDs to a Pandas Series\n",
    "unique_ids_plm = pd.Series(unique_ids)\n",
    "\n",
    "unique_ids_plm = unique_ids_plm.nunique()\n"
   ]
  },
  {
   "cell_type": "code",
   "execution_count": 9,
   "id": "5de7fbd4",
   "metadata": {},
   "outputs": [
    {
     "data": {
      "text/plain": [
       "821"
      ]
     },
     "execution_count": 9,
     "metadata": {},
     "output_type": "execute_result"
    }
   ],
   "source": [
    "unique_ids_plm "
   ]
  }
 ],
 "metadata": {
  "kernelspec": {
   "display_name": "Python 3 (ipykernel)",
   "language": "python",
   "name": "python3"
  },
  "language_info": {
   "codemirror_mode": {
    "name": "ipython",
    "version": 3
   },
   "file_extension": ".py",
   "mimetype": "text/x-python",
   "name": "python",
   "nbconvert_exporter": "python",
   "pygments_lexer": "ipython3",
   "version": "3.9.13"
  }
 },
 "nbformat": 4,
 "nbformat_minor": 5
}
