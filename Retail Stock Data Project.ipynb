{
 "cells": [
  {
   "cell_type": "markdown",
   "id": "2d4b4bc2",
   "metadata": {},
   "source": [
    "# Loading packages and importing data sets. "
   ]
  },
  {
   "cell_type": "code",
   "execution_count": 1,
   "id": "e44753ec",
   "metadata": {},
   "outputs": [],
   "source": [
    "import pandas as pd\n",
    "import numpy as np"
   ]
  },
  {
   "cell_type": "code",
   "execution_count": 2,
   "id": "0a8f44dc",
   "metadata": {},
   "outputs": [],
   "source": [
    "# Source data downloaded from is Yahoo Finance.\n",
    "kroger = pd.read_csv('/Users/granthakason/Downloads/KR.csv')\n",
    "target = pd.read_csv('/Users/granthakason/Downloads/TGT.csv')\n",
    "walmart = pd.read_csv('/Users/granthakason/Downloads/WMT.csv')"
   ]
  },
  {
   "cell_type": "markdown",
   "id": "9a1f3c13",
   "metadata": {},
   "source": [
    "# Adding company field into each data set"
   ]
  },
  {
   "cell_type": "markdown",
   "id": "f5a54b23",
   "metadata": {},
   "source": [
    "### Kroger"
   ]
  },
  {
   "cell_type": "code",
   "execution_count": 75,
   "id": "1f6bc756",
   "metadata": {},
   "outputs": [
    {
     "data": {
      "text/html": [
       "<div>\n",
       "<style scoped>\n",
       "    .dataframe tbody tr th:only-of-type {\n",
       "        vertical-align: middle;\n",
       "    }\n",
       "\n",
       "    .dataframe tbody tr th {\n",
       "        vertical-align: top;\n",
       "    }\n",
       "\n",
       "    .dataframe thead th {\n",
       "        text-align: right;\n",
       "    }\n",
       "</style>\n",
       "<table border=\"1\" class=\"dataframe\">\n",
       "  <thead>\n",
       "    <tr style=\"text-align: right;\">\n",
       "      <th></th>\n",
       "      <th>Date</th>\n",
       "      <th>Open</th>\n",
       "      <th>High</th>\n",
       "      <th>Low</th>\n",
       "      <th>Close</th>\n",
       "      <th>Adj Close</th>\n",
       "      <th>Volume</th>\n",
       "      <th>company</th>\n",
       "    </tr>\n",
       "  </thead>\n",
       "  <tbody>\n",
       "    <tr>\n",
       "      <th>0</th>\n",
       "      <td>2022-03-21</td>\n",
       "      <td>55.980000</td>\n",
       "      <td>57.610001</td>\n",
       "      <td>55.619999</td>\n",
       "      <td>55.680000</td>\n",
       "      <td>54.536987</td>\n",
       "      <td>6458600</td>\n",
       "      <td>Kroger</td>\n",
       "    </tr>\n",
       "    <tr>\n",
       "      <th>1</th>\n",
       "      <td>2022-03-22</td>\n",
       "      <td>56.000000</td>\n",
       "      <td>56.799999</td>\n",
       "      <td>55.130001</td>\n",
       "      <td>56.570000</td>\n",
       "      <td>55.408714</td>\n",
       "      <td>7006000</td>\n",
       "      <td>Kroger</td>\n",
       "    </tr>\n",
       "    <tr>\n",
       "      <th>2</th>\n",
       "      <td>2022-03-23</td>\n",
       "      <td>56.740002</td>\n",
       "      <td>57.200001</td>\n",
       "      <td>56.169998</td>\n",
       "      <td>56.450001</td>\n",
       "      <td>55.291183</td>\n",
       "      <td>5209300</td>\n",
       "      <td>Kroger</td>\n",
       "    </tr>\n",
       "  </tbody>\n",
       "</table>\n",
       "</div>"
      ],
      "text/plain": [
       "         Date       Open       High        Low      Close  Adj Close   Volume  \\\n",
       "0  2022-03-21  55.980000  57.610001  55.619999  55.680000  54.536987  6458600   \n",
       "1  2022-03-22  56.000000  56.799999  55.130001  56.570000  55.408714  7006000   \n",
       "2  2022-03-23  56.740002  57.200001  56.169998  56.450001  55.291183  5209300   \n",
       "\n",
       "  company  \n",
       "0  Kroger  \n",
       "1  Kroger  \n",
       "2  Kroger  "
      ]
     },
     "execution_count": 75,
     "metadata": {},
     "output_type": "execute_result"
    }
   ],
   "source": [
    "kroger['company'] = kroger['company'].fillna(0, inplace=True)\n",
    "kroger['company'] = kroger['company'].apply(lambda x: 'Kroger' if x is None else x)\n",
    "kroger.head(3)"
   ]
  },
  {
   "cell_type": "markdown",
   "id": "a39f930e",
   "metadata": {},
   "source": [
    "### Target"
   ]
  },
  {
   "cell_type": "code",
   "execution_count": 74,
   "id": "f7a0a006",
   "metadata": {},
   "outputs": [
    {
     "data": {
      "text/html": [
       "<div>\n",
       "<style scoped>\n",
       "    .dataframe tbody tr th:only-of-type {\n",
       "        vertical-align: middle;\n",
       "    }\n",
       "\n",
       "    .dataframe tbody tr th {\n",
       "        vertical-align: top;\n",
       "    }\n",
       "\n",
       "    .dataframe thead th {\n",
       "        text-align: right;\n",
       "    }\n",
       "</style>\n",
       "<table border=\"1\" class=\"dataframe\">\n",
       "  <thead>\n",
       "    <tr style=\"text-align: right;\">\n",
       "      <th></th>\n",
       "      <th>Date</th>\n",
       "      <th>Open</th>\n",
       "      <th>High</th>\n",
       "      <th>Low</th>\n",
       "      <th>Close</th>\n",
       "      <th>Adj Close</th>\n",
       "      <th>Volume</th>\n",
       "      <th>company</th>\n",
       "    </tr>\n",
       "  </thead>\n",
       "  <tbody>\n",
       "    <tr>\n",
       "      <th>0</th>\n",
       "      <td>2022-03-21</td>\n",
       "      <td>226.029999</td>\n",
       "      <td>228.460007</td>\n",
       "      <td>221.320007</td>\n",
       "      <td>223.000000</td>\n",
       "      <td>217.958893</td>\n",
       "      <td>3023500</td>\n",
       "      <td>Target</td>\n",
       "    </tr>\n",
       "    <tr>\n",
       "      <th>1</th>\n",
       "      <td>2022-03-22</td>\n",
       "      <td>223.710007</td>\n",
       "      <td>224.630005</td>\n",
       "      <td>221.750000</td>\n",
       "      <td>222.770004</td>\n",
       "      <td>217.734100</td>\n",
       "      <td>2464000</td>\n",
       "      <td>Target</td>\n",
       "    </tr>\n",
       "    <tr>\n",
       "      <th>2</th>\n",
       "      <td>2022-03-23</td>\n",
       "      <td>222.270004</td>\n",
       "      <td>222.729996</td>\n",
       "      <td>215.940002</td>\n",
       "      <td>216.720001</td>\n",
       "      <td>211.820877</td>\n",
       "      <td>2993500</td>\n",
       "      <td>Target</td>\n",
       "    </tr>\n",
       "  </tbody>\n",
       "</table>\n",
       "</div>"
      ],
      "text/plain": [
       "         Date        Open        High         Low       Close   Adj Close  \\\n",
       "0  2022-03-21  226.029999  228.460007  221.320007  223.000000  217.958893   \n",
       "1  2022-03-22  223.710007  224.630005  221.750000  222.770004  217.734100   \n",
       "2  2022-03-23  222.270004  222.729996  215.940002  216.720001  211.820877   \n",
       "\n",
       "    Volume company  \n",
       "0  3023500  Target  \n",
       "1  2464000  Target  \n",
       "2  2993500  Target  "
      ]
     },
     "execution_count": 74,
     "metadata": {},
     "output_type": "execute_result"
    }
   ],
   "source": [
    "target['company'] = target['company'].fillna(0, inplace=True)\n",
    "target['company'] = target['company'].apply(lambda x: 'Target' if x is None else x)\n",
    "target.head(3)"
   ]
  },
  {
   "cell_type": "markdown",
   "id": "3e063f46",
   "metadata": {},
   "source": [
    "### Walmart"
   ]
  },
  {
   "cell_type": "code",
   "execution_count": 73,
   "id": "7fd0e609",
   "metadata": {},
   "outputs": [
    {
     "data": {
      "text/html": [
       "<div>\n",
       "<style scoped>\n",
       "    .dataframe tbody tr th:only-of-type {\n",
       "        vertical-align: middle;\n",
       "    }\n",
       "\n",
       "    .dataframe tbody tr th {\n",
       "        vertical-align: top;\n",
       "    }\n",
       "\n",
       "    .dataframe thead th {\n",
       "        text-align: right;\n",
       "    }\n",
       "</style>\n",
       "<table border=\"1\" class=\"dataframe\">\n",
       "  <thead>\n",
       "    <tr style=\"text-align: right;\">\n",
       "      <th></th>\n",
       "      <th>Date</th>\n",
       "      <th>Open</th>\n",
       "      <th>High</th>\n",
       "      <th>Low</th>\n",
       "      <th>Close</th>\n",
       "      <th>Adj Close</th>\n",
       "      <th>Volume</th>\n",
       "      <th>company</th>\n",
       "    </tr>\n",
       "  </thead>\n",
       "  <tbody>\n",
       "    <tr>\n",
       "      <th>0</th>\n",
       "      <td>2022-03-21</td>\n",
       "      <td>226.029999</td>\n",
       "      <td>228.460007</td>\n",
       "      <td>221.320007</td>\n",
       "      <td>223.000000</td>\n",
       "      <td>217.958893</td>\n",
       "      <td>3023500</td>\n",
       "      <td>Target</td>\n",
       "    </tr>\n",
       "    <tr>\n",
       "      <th>1</th>\n",
       "      <td>2022-03-22</td>\n",
       "      <td>223.710007</td>\n",
       "      <td>224.630005</td>\n",
       "      <td>221.750000</td>\n",
       "      <td>222.770004</td>\n",
       "      <td>217.734100</td>\n",
       "      <td>2464000</td>\n",
       "      <td>Target</td>\n",
       "    </tr>\n",
       "    <tr>\n",
       "      <th>2</th>\n",
       "      <td>2022-03-23</td>\n",
       "      <td>222.270004</td>\n",
       "      <td>222.729996</td>\n",
       "      <td>215.940002</td>\n",
       "      <td>216.720001</td>\n",
       "      <td>211.820877</td>\n",
       "      <td>2993500</td>\n",
       "      <td>Target</td>\n",
       "    </tr>\n",
       "  </tbody>\n",
       "</table>\n",
       "</div>"
      ],
      "text/plain": [
       "         Date        Open        High         Low       Close   Adj Close  \\\n",
       "0  2022-03-21  226.029999  228.460007  221.320007  223.000000  217.958893   \n",
       "1  2022-03-22  223.710007  224.630005  221.750000  222.770004  217.734100   \n",
       "2  2022-03-23  222.270004  222.729996  215.940002  216.720001  211.820877   \n",
       "\n",
       "    Volume company  \n",
       "0  3023500  Target  \n",
       "1  2464000  Target  \n",
       "2  2993500  Target  "
      ]
     },
     "execution_count": 73,
     "metadata": {},
     "output_type": "execute_result"
    }
   ],
   "source": [
    "walmart['company'] = walmart['company'].fillna(0, inplace=True)\n",
    "walmart['company'] = walmart['company'].apply(lambda x: 'Walmart' if x is None else x)\n",
    "target.head(3)"
   ]
  },
  {
   "cell_type": "markdown",
   "id": "af04bd57",
   "metadata": {},
   "source": [
    "# Making them a single data set and making company the first field in the data set. "
   ]
  },
  {
   "cell_type": "code",
   "execution_count": 69,
   "id": "49c2cc89",
   "metadata": {},
   "outputs": [],
   "source": [
    "retail_stk_data = pd.concat([kroger, target, walmart])"
   ]
  },
  {
   "cell_type": "code",
   "execution_count": 70,
   "id": "58b07af3",
   "metadata": {},
   "outputs": [],
   "source": [
    "retail_stk_data.insert(0, 'company', retail_stk_data.pop('company'))"
   ]
  },
  {
   "cell_type": "code",
   "execution_count": 71,
   "id": "f8f34540",
   "metadata": {},
   "outputs": [
    {
     "data": {
      "text/plain": [
       "Kroger     250\n",
       "Target     250\n",
       "Walmart    250\n",
       "Name: company, dtype: int64"
      ]
     },
     "execution_count": 71,
     "metadata": {},
     "output_type": "execute_result"
    }
   ],
   "source": [
    "retail_stk_data['company'].value_counts()"
   ]
  },
  {
   "cell_type": "code",
   "execution_count": 76,
   "id": "b609455f",
   "metadata": {},
   "outputs": [
    {
     "data": {
      "text/html": [
       "<div>\n",
       "<style scoped>\n",
       "    .dataframe tbody tr th:only-of-type {\n",
       "        vertical-align: middle;\n",
       "    }\n",
       "\n",
       "    .dataframe tbody tr th {\n",
       "        vertical-align: top;\n",
       "    }\n",
       "\n",
       "    .dataframe thead th {\n",
       "        text-align: right;\n",
       "    }\n",
       "</style>\n",
       "<table border=\"1\" class=\"dataframe\">\n",
       "  <thead>\n",
       "    <tr style=\"text-align: right;\">\n",
       "      <th></th>\n",
       "      <th>company</th>\n",
       "      <th>Date</th>\n",
       "      <th>Open</th>\n",
       "      <th>High</th>\n",
       "      <th>Low</th>\n",
       "      <th>Close</th>\n",
       "      <th>Adj Close</th>\n",
       "      <th>Volume</th>\n",
       "    </tr>\n",
       "  </thead>\n",
       "  <tbody>\n",
       "    <tr>\n",
       "      <th>0</th>\n",
       "      <td>Kroger</td>\n",
       "      <td>2022-03-21</td>\n",
       "      <td>55.980000</td>\n",
       "      <td>57.610001</td>\n",
       "      <td>55.619999</td>\n",
       "      <td>55.680000</td>\n",
       "      <td>54.536987</td>\n",
       "      <td>6458600</td>\n",
       "    </tr>\n",
       "    <tr>\n",
       "      <th>1</th>\n",
       "      <td>Kroger</td>\n",
       "      <td>2022-03-22</td>\n",
       "      <td>56.000000</td>\n",
       "      <td>56.799999</td>\n",
       "      <td>55.130001</td>\n",
       "      <td>56.570000</td>\n",
       "      <td>55.408714</td>\n",
       "      <td>7006000</td>\n",
       "    </tr>\n",
       "    <tr>\n",
       "      <th>2</th>\n",
       "      <td>Kroger</td>\n",
       "      <td>2022-03-23</td>\n",
       "      <td>56.740002</td>\n",
       "      <td>57.200001</td>\n",
       "      <td>56.169998</td>\n",
       "      <td>56.450001</td>\n",
       "      <td>55.291183</td>\n",
       "      <td>5209300</td>\n",
       "    </tr>\n",
       "  </tbody>\n",
       "</table>\n",
       "</div>"
      ],
      "text/plain": [
       "  company        Date       Open       High        Low      Close  Adj Close  \\\n",
       "0  Kroger  2022-03-21  55.980000  57.610001  55.619999  55.680000  54.536987   \n",
       "1  Kroger  2022-03-22  56.000000  56.799999  55.130001  56.570000  55.408714   \n",
       "2  Kroger  2022-03-23  56.740002  57.200001  56.169998  56.450001  55.291183   \n",
       "\n",
       "    Volume  \n",
       "0  6458600  \n",
       "1  7006000  \n",
       "2  5209300  "
      ]
     },
     "execution_count": 76,
     "metadata": {},
     "output_type": "execute_result"
    }
   ],
   "source": [
    "retail_stk_data.head(3)"
   ]
  },
  {
   "cell_type": "markdown",
   "id": "46665377",
   "metadata": {},
   "source": [
    "# Export retail_stk_data as csv"
   ]
  },
  {
   "cell_type": "code",
   "execution_count": 77,
   "id": "726be97d",
   "metadata": {},
   "outputs": [],
   "source": [
    "retail_stk_data.to_csv('retail_stk_data.csv', index=False)"
   ]
  }
 ],
 "metadata": {
  "kernelspec": {
   "display_name": "Python 3 (ipykernel)",
   "language": "python",
   "name": "python3"
  },
  "language_info": {
   "codemirror_mode": {
    "name": "ipython",
    "version": 3
   },
   "file_extension": ".py",
   "mimetype": "text/x-python",
   "name": "python",
   "nbconvert_exporter": "python",
   "pygments_lexer": "ipython3",
   "version": "3.9.13"
  }
 },
 "nbformat": 4,
 "nbformat_minor": 5
}
